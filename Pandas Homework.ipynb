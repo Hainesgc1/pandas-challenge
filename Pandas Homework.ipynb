{
 "cells": [
  {
   "cell_type": "code",
   "execution_count": 50,
   "metadata": {},
   "outputs": [
    {
     "data": {
      "text/html": [
       "<div>\n",
       "<style scoped>\n",
       "    .dataframe tbody tr th:only-of-type {\n",
       "        vertical-align: middle;\n",
       "    }\n",
       "\n",
       "    .dataframe tbody tr th {\n",
       "        vertical-align: top;\n",
       "    }\n",
       "\n",
       "    .dataframe thead th {\n",
       "        text-align: right;\n",
       "    }\n",
       "</style>\n",
       "<table border=\"1\" class=\"dataframe\">\n",
       "  <thead>\n",
       "    <tr style=\"text-align: right;\">\n",
       "      <th></th>\n",
       "      <th>Purchase ID</th>\n",
       "      <th>SN</th>\n",
       "      <th>Age</th>\n",
       "      <th>Gender</th>\n",
       "      <th>Item ID</th>\n",
       "      <th>Item Name</th>\n",
       "      <th>Price</th>\n",
       "    </tr>\n",
       "  </thead>\n",
       "  <tbody>\n",
       "    <tr>\n",
       "      <th>0</th>\n",
       "      <td>0</td>\n",
       "      <td>Lisim78</td>\n",
       "      <td>20</td>\n",
       "      <td>Male</td>\n",
       "      <td>108</td>\n",
       "      <td>Extraction, Quickblade Of Trembling Hands</td>\n",
       "      <td>3.53</td>\n",
       "    </tr>\n",
       "    <tr>\n",
       "      <th>1</th>\n",
       "      <td>1</td>\n",
       "      <td>Lisovynya38</td>\n",
       "      <td>40</td>\n",
       "      <td>Male</td>\n",
       "      <td>143</td>\n",
       "      <td>Frenzied Scimitar</td>\n",
       "      <td>1.56</td>\n",
       "    </tr>\n",
       "    <tr>\n",
       "      <th>2</th>\n",
       "      <td>2</td>\n",
       "      <td>Ithergue48</td>\n",
       "      <td>24</td>\n",
       "      <td>Male</td>\n",
       "      <td>92</td>\n",
       "      <td>Final Critic</td>\n",
       "      <td>4.88</td>\n",
       "    </tr>\n",
       "    <tr>\n",
       "      <th>3</th>\n",
       "      <td>3</td>\n",
       "      <td>Chamassasya86</td>\n",
       "      <td>24</td>\n",
       "      <td>Male</td>\n",
       "      <td>100</td>\n",
       "      <td>Blindscythe</td>\n",
       "      <td>3.27</td>\n",
       "    </tr>\n",
       "    <tr>\n",
       "      <th>4</th>\n",
       "      <td>4</td>\n",
       "      <td>Iskosia90</td>\n",
       "      <td>23</td>\n",
       "      <td>Male</td>\n",
       "      <td>131</td>\n",
       "      <td>Fury</td>\n",
       "      <td>1.44</td>\n",
       "    </tr>\n",
       "  </tbody>\n",
       "</table>\n",
       "</div>"
      ],
      "text/plain": [
       "   Purchase ID             SN  Age Gender  Item ID  \\\n",
       "0            0        Lisim78   20   Male      108   \n",
       "1            1    Lisovynya38   40   Male      143   \n",
       "2            2     Ithergue48   24   Male       92   \n",
       "3            3  Chamassasya86   24   Male      100   \n",
       "4            4      Iskosia90   23   Male      131   \n",
       "\n",
       "                                   Item Name  Price  \n",
       "0  Extraction, Quickblade Of Trembling Hands   3.53  \n",
       "1                          Frenzied Scimitar   1.56  \n",
       "2                               Final Critic   4.88  \n",
       "3                                Blindscythe   3.27  \n",
       "4                                       Fury   1.44  "
      ]
     },
     "execution_count": 50,
     "metadata": {},
     "output_type": "execute_result"
    }
   ],
   "source": [
    "### Player Count\n",
    "import pandas as pd\n",
    "import os\n",
    "\n",
    "\n",
    "#import data from csv file\n",
    "dataframe = pd.read_csv(\"purchase_data.csv\")\n",
    "dataframe.head()"
   ]
  },
  {
   "cell_type": "code",
   "execution_count": 51,
   "metadata": {},
   "outputs": [
    {
     "data": {
      "text/plain": [
       "780"
      ]
     },
     "execution_count": 51,
     "metadata": {},
     "output_type": "execute_result"
    }
   ],
   "source": [
    "# player count\n",
    "dataframe[\"SN\"].count()"
   ]
  },
  {
   "cell_type": "code",
   "execution_count": 28,
   "metadata": {
    "scrolled": true
   },
   "outputs": [
    {
     "data": {
      "text/plain": [
       "779    1\n",
       "243    1\n",
       "265    1\n",
       "264    1\n",
       "263    1\n",
       "      ..\n",
       "517    1\n",
       "516    1\n",
       "515    1\n",
       "514    1\n",
       "0      1\n",
       "Name: Purchase ID, Length: 780, dtype: int64"
      ]
     },
     "execution_count": 28,
     "metadata": {},
     "output_type": "execute_result"
    }
   ],
   "source": [
    "# Purchasing Analysis (Total)\n",
    "#Number of Unique Items\n",
    "count = dataframe[\"Purchase ID\"].value_counts()\n",
    "count"
   ]
  },
  {
   "cell_type": "code",
   "execution_count": 45,
   "metadata": {},
   "outputs": [
    {
     "data": {
      "text/plain": [
       "3.050987179487176"
      ]
     },
     "execution_count": 45,
     "metadata": {},
     "output_type": "execute_result"
    }
   ],
   "source": [
    "# Average Purchase Price\n",
    "average = dataframe[\"Price\"].mean()\n",
    "average\n"
   ]
  },
  {
   "cell_type": "code",
   "execution_count": 46,
   "metadata": {},
   "outputs": [
    {
     "data": {
      "text/plain": [
       "2379.77"
      ]
     },
     "execution_count": 46,
     "metadata": {},
     "output_type": "execute_result"
    }
   ],
   "source": [
    "# Total Purchase Value\n",
    "total = dataframe[\"Price\"].sum()\n",
    "total"
   ]
  },
  {
   "cell_type": "code",
   "execution_count": 57,
   "metadata": {},
   "outputs": [],
   "source": [
    "dictionary = {}\n",
    "for item in unique:\n",
    "    dictionary[item] = all_items.count(item)\n",
    "    \n"
   ]
  },
  {
   "cell_type": "code",
   "execution_count": 58,
   "metadata": {},
   "outputs": [
    {
     "data": {
      "text/plain": [
       "{'Extraction, Quickblade Of Trembling Hands': 9,\n",
       " 'Frenzied Scimitar': 6,\n",
       " 'Final Critic': 13,\n",
       " 'Blindscythe': 5,\n",
       " 'Fury': 5,\n",
       " 'Dreamkiss': 2,\n",
       " 'Interrogator, Blood Blade of the Queen': 4,\n",
       " 'Abyssal Shard': 5,\n",
       " 'Souleater': 5,\n",
       " 'Ghastly Adamantite Protector': 6,\n",
       " 'Singed Onyx Warscythe': 3,\n",
       " 'Renewed Skeletal Katana': 4,\n",
       " \"Bloodlord's Fetish\": 5,\n",
       " 'Bone Crushing Silver Skewer': 4,\n",
       " 'Deadline, Voice Of Subtlety': 5,\n",
       " 'Second Chance': 6,\n",
       " 'Devine': 5,\n",
       " 'Nirvana': 9,\n",
       " 'Blazefury, Protector of Delusions': 3,\n",
       " 'Despair, Favor of Due Diligence': 4,\n",
       " 'Sun Strike, Jaws of Twisted Visions': 2,\n",
       " 'Warped Fetish': 5,\n",
       " 'Severance': 3,\n",
       " 'Persuasion': 9,\n",
       " 'Oathbreaker, Last Hope of the Breaking Storm': 12,\n",
       " 'Demise': 7,\n",
       " 'Blood-Forged Skeletal Spine': 6,\n",
       " 'Stormbringer, Dark Blade of Ending Misery': 3,\n",
       " 'Shadow Strike, Glory of Ending Hope': 8,\n",
       " 'Striker': 5,\n",
       " 'Wolf, Promise of the Moonwalker': 6,\n",
       " \"Faith's Scimitar\": 5,\n",
       " 'Bonecarvin Battle Axe': 5,\n",
       " 'Azurewrath': 6,\n",
       " 'Vengeance Cleaver': 7,\n",
       " 'Haunted Bronzed Bludgeon': 4,\n",
       " 'Ritual Mace': 5,\n",
       " 'Blade of the Grave': 4,\n",
       " 'Thorn, Satchel of Dark Souls': 7,\n",
       " \"Winter's Bite\": 8,\n",
       " 'Thorn, Conqueror of the Corrupted': 4,\n",
       " \"Reaper's Toll\": 5,\n",
       " 'Avenger': 6,\n",
       " 'Shadowsteel': 4,\n",
       " 'Peacekeeper, Wit of Dark Magic': 5,\n",
       " 'Suspension': 7,\n",
       " 'Amnesia': 6,\n",
       " 'Soul Infused Crystal': 5,\n",
       " 'Wolf': 8,\n",
       " 'Relentless Iron Skewer': 2,\n",
       " 'Hero Cane': 6,\n",
       " 'Arcane Gem': 3,\n",
       " 'Dreamsong': 5,\n",
       " 'Darkheart': 4,\n",
       " 'Hailstorm Shadowsteel Scythe': 4,\n",
       " 'Whistling Mithril Warblade': 2,\n",
       " 'Foul Titanium Battle Axe': 2,\n",
       " 'Retribution Axe': 8,\n",
       " 'Rusty Skull': 2,\n",
       " 'Riddle, Tribute of Ended Dreams': 1,\n",
       " 'Chaos, Ender of the End': 5,\n",
       " 'Storm-Weaver, Slayer of Inception': 4,\n",
       " 'Venom Claymore': 4,\n",
       " 'Emberling, Defender of Delusions': 5,\n",
       " 'Netherbane': 5,\n",
       " 'Dawn': 4,\n",
       " 'Primitive Blade': 4,\n",
       " 'Dawne': 6,\n",
       " 'Curved Axe': 2,\n",
       " 'Fate, Vengeance of Eternal Justice': 6,\n",
       " 'Lazarus, Terror of the Earth': 4,\n",
       " 'Lightning, Etcher of the King': 8,\n",
       " 'Betrayal, Whisper of Grieving Widows': 5,\n",
       " 'Exiled Doomblade': 7,\n",
       " 'Undead Crusader': 1,\n",
       " 'Downfall, Scalpel Of The Emperor': 3,\n",
       " 'Sleepwalker': 4,\n",
       " 'Eternal Cleaver': 6,\n",
       " 'Expiration, Warscythe Of Lost Worlds': 4,\n",
       " 'Malificent Bag': 7,\n",
       " 'Mercy, Katana of Dismay': 5,\n",
       " 'Orbit': 3,\n",
       " 'Deathraze': 5,\n",
       " 'Serenity': 4,\n",
       " 'Heartstriker, Legacy of the Light': 7,\n",
       " 'Glimmer, Ender of the Moon': 7,\n",
       " 'Deluge, Edge of the West': 5,\n",
       " 'Crucifer': 4,\n",
       " 'Piece Maker': 3,\n",
       " 'Brutality Ivory Warmace': 8,\n",
       " \"Freak's Bite, Favor of Holy Might\": 4,\n",
       " 'Yearning Crusher': 3,\n",
       " 'Agatha': 6,\n",
       " 'Fiery Glass Crusader': 9,\n",
       " 'Splinter': 4,\n",
       " 'Verdict': 6,\n",
       " 'Warped Iron Scimitar': 5,\n",
       " 'Darkheart, Butcher of the Champion': 2,\n",
       " 'Purgatory, Gem of Regret': 3,\n",
       " 'Woeful Adamantite Claymore': 3,\n",
       " 'Hopeless Ebon Dualblade': 5,\n",
       " \"Warmonger, Gift of Suffering's End\": 3,\n",
       " \"Misery's End\": 4,\n",
       " 'Phantomlight': 6,\n",
       " 'Conqueror Adamantite Mace': 5,\n",
       " \"Dragon's Greatsword\": 3,\n",
       " 'Stormcaller': 3,\n",
       " 'Spada, Etcher of Hatred': 4,\n",
       " \"Twilight's Carver\": 4,\n",
       " 'Putrid Fan': 4,\n",
       " 'Blood Infused Guardian': 6,\n",
       " 'Singed Scalpel': 8,\n",
       " 'Warped Diamond Crusader': 3,\n",
       " 'Endbringer': 1,\n",
       " 'Feral Katana': 4,\n",
       " 'Orenmir': 5,\n",
       " 'Piety, Guardian of Riddles': 4,\n",
       " 'Brimstone': 5,\n",
       " 'Stormfury Mace': 2,\n",
       " 'Frenzy, Defender of the Harvest': 2,\n",
       " \"Solitude's Reaver\": 4,\n",
       " 'Mercenary Sabre': 4,\n",
       " 'Yearning Mageblade': 5,\n",
       " 'Tranquility, Razor of Black Magic': 5,\n",
       " 'Oathbreaker, Spellblade of Trials': 7,\n",
       " 'Aetherius, Boon of the Blessed': 5,\n",
       " 'Righteous Might': 3,\n",
       " 'Victor Iron Spikes': 4,\n",
       " 'Swan Song, Gouger Of Terror': 3,\n",
       " 'Thunderfury Scimitar': 5,\n",
       " 'Splitter, Foe Of Subtlety': 4,\n",
       " 'Restored Bauble': 4,\n",
       " 'The Decapitator': 1,\n",
       " 'Pursuit, Cudgel of Necromancy': 8,\n",
       " 'Lifebender': 4,\n",
       " 'Flux, Destroyer of Due Diligence': 2,\n",
       " 'Mourning Blade': 4,\n",
       " 'Toothpick': 3,\n",
       " \"Hope's End\": 4,\n",
       " 'Torchlight, Bond of Storms': 2,\n",
       " 'Thirsty Iron Reaver': 3,\n",
       " 'Stormfury Longsword': 2,\n",
       " 'Malice, Legacy of the Queen': 4,\n",
       " 'War-Forged Gold Deflector': 5,\n",
       " 'Blazeguard, Reach of Eternity': 5,\n",
       " 'Soul-Forged Steel Shortsword': 5,\n",
       " 'Hellreaver, Heirloom of Inception': 3,\n",
       " 'Heartless Bone Dualblade': 5,\n",
       " 'Scalpel': 3,\n",
       " 'Hatred': 4,\n",
       " 'Crying Steel Sickle': 3,\n",
       " 'The Void, Vengeance of Dark Magic': 4,\n",
       " 'Celeste': 1,\n",
       " 'Ghost Reaver, Longsword of Magic': 1,\n",
       " 'Celeste, Incarnation of the Corrupted': 4,\n",
       " 'Glinting Glass Edge': 4,\n",
       " 'The Oculus, Token of Lost Worlds': 3,\n",
       " 'Massacre': 4,\n",
       " 'Alpha, Oath of Zeal': 3,\n",
       " 'Possessed Core': 2,\n",
       " 'Foul Edge': 2,\n",
       " 'Trickster': 2,\n",
       " 'Fusion Pummel': 3,\n",
       " 'Stormfury Lantern': 3,\n",
       " 'Apocalyptic Battlescythe': 6,\n",
       " 'Unholy Wand': 2,\n",
       " 'Unending Tyranny': 3,\n",
       " 'Ragnarok': 3,\n",
       " 'Rage, Legacy of the Lone Victor': 2,\n",
       " 'Worldbreaker': 4,\n",
       " 'Exiled Mithril Longsword': 1,\n",
       " 'Spectral Diamond Doomblade': 2,\n",
       " 'Vindictive Glass Edge': 3,\n",
       " 'Heartseeker, Reaver of Souls': 2,\n",
       " 'Alpha, Reach of Ending Hope': 1,\n",
       " 'Alpha': 3,\n",
       " 'Betrayer': 1,\n",
       " 'Winterthorn, Defender of Shifting Worlds': 2,\n",
       " \"Gladiator's Glaive\": 1}"
      ]
     },
     "execution_count": 58,
     "metadata": {},
     "output_type": "execute_result"
    }
   ],
   "source": [
    "dictionary"
   ]
  },
  {
   "cell_type": "code",
   "execution_count": 59,
   "metadata": {},
   "outputs": [
    {
     "name": "stdout",
     "output_type": "stream",
     "text": [
      "13\n"
     ]
    }
   ],
   "source": [
    "print(max(dictionary.values()))"
   ]
  },
  {
   "cell_type": "code",
   "execution_count": 63,
   "metadata": {},
   "outputs": [],
   "source": [
    "for x,y in zip(dictionary.keys(), dictionary.values()):\n",
    "    if y==13:\n",
    "        answer = list(dictionary.keys())"
   ]
  },
  {
   "cell_type": "code",
   "execution_count": 68,
   "metadata": {},
   "outputs": [],
   "source": [
    "answer.sort()"
   ]
  },
  {
   "cell_type": "code",
   "execution_count": 70,
   "metadata": {},
   "outputs": [],
   "source": [
    "final_list = (answer[0:5])"
   ]
  },
  {
   "cell_type": "code",
   "execution_count": 71,
   "metadata": {},
   "outputs": [
    {
     "name": "stdout",
     "output_type": "stream",
     "text": [
      "7\n",
      "214\n",
      "130\n",
      "673\n",
      "352\n"
     ]
    }
   ],
   "source": [
    "for i in final_list:\n",
    "    print (all_items.index(i))"
   ]
  },
  {
   "cell_type": "code",
   "execution_count": 73,
   "metadata": {},
   "outputs": [
    {
     "name": "stdout",
     "output_type": "stream",
     "text": [
      "Purchase ID                7\n",
      "SN               Iskjaskst81\n",
      "Age                       20\n",
      "Gender                  Male\n",
      "Item ID                  162\n",
      "Item Name      Abyssal Shard\n",
      "Price                   2.67\n",
      "Name: 7, dtype: object\n",
      "Purchase ID                               214\n",
      "SN                                Iaralsuir44\n",
      "Age                                        23\n",
      "Gender                                   Male\n",
      "Item ID                                   137\n",
      "Item Name      Aetherius, Boon of the Blessed\n",
      "Price                                    3.39\n",
      "Name: 214, dtype: object\n"
     ]
    }
   ],
   "source": [
    "print(dataframe.loc[7])\n",
    "print(dataframe.loc[214])"
   ]
  },
  {
   "cell_type": "code",
   "execution_count": 76,
   "metadata": {},
   "outputs": [],
   "source": [
    "item1 = (dataframe[['Item ID', 'Item Name', 'Price']].loc[7])"
   ]
  },
  {
   "cell_type": "code",
   "execution_count": 78,
   "metadata": {},
   "outputs": [],
   "source": [
    "item1_2 = item1.tolist()\n",
    "item1_2.append(13)\n",
    "item1_2.append(item1_2[2]*13)"
   ]
  },
  {
   "cell_type": "code",
   "execution_count": 79,
   "metadata": {},
   "outputs": [
    {
     "name": "stdout",
     "output_type": "stream",
     "text": [
      "[162, 'Abyssal Shard', 2.67, 13, 34.71]\n"
     ]
    }
   ],
   "source": [
    "print(item1_2)"
   ]
  },
  {
   "cell_type": "code",
   "execution_count": 80,
   "metadata": {},
   "outputs": [],
   "source": [
    "item2 = (dataframe[['Item ID', 'Item Name', 'Price']].loc[214])"
   ]
  },
  {
   "cell_type": "code",
   "execution_count": 82,
   "metadata": {},
   "outputs": [],
   "source": [
    "item2_2 = item2.tolist()\n",
    "item2_2.append(13)\n",
    "item2_2.append(item2_2[2]*13)"
   ]
  },
  {
   "cell_type": "code",
   "execution_count": 83,
   "metadata": {},
   "outputs": [],
   "source": [
    "item3 = (dataframe[['Item ID', 'Item Name', 'Price']].loc[130])"
   ]
  },
  {
   "cell_type": "code",
   "execution_count": 84,
   "metadata": {},
   "outputs": [],
   "source": [
    "item3_2 = item1.tolist()\n",
    "item3_2.append(13)\n",
    "item3_2.append(item3_2[2]*13)"
   ]
  },
  {
   "cell_type": "code",
   "execution_count": 85,
   "metadata": {},
   "outputs": [],
   "source": [
    "item4 = (dataframe[['Item ID', 'Item Name', 'Price']].loc[673])"
   ]
  },
  {
   "cell_type": "code",
   "execution_count": 86,
   "metadata": {},
   "outputs": [],
   "source": [
    "item4_2 = item1.tolist()\n",
    "item4_2.append(13)\n",
    "item4_2.append(item4_2[2]*13)"
   ]
  },
  {
   "cell_type": "code",
   "execution_count": 87,
   "metadata": {},
   "outputs": [],
   "source": [
    "item5 = (dataframe[['Item ID', 'Item Name', 'Price']].loc[352])"
   ]
  },
  {
   "cell_type": "code",
   "execution_count": 88,
   "metadata": {},
   "outputs": [],
   "source": [
    "item5_2 = item1.tolist()\n",
    "item5_2.append(13)\n",
    "item5_2.append(item5_2[2]*13)"
   ]
  },
  {
   "cell_type": "code",
   "execution_count": 91,
   "metadata": {},
   "outputs": [
    {
     "name": "stdout",
     "output_type": "stream",
     "text": [
      "Item ID Item Name Price Purchase Count Total Purchase Value\n",
      "[162, 'Abyssal Shard', 2.67, 13, 34.71]\n",
      "\n",
      "\n",
      "Item ID Item Name Price Purchase Count Total Purchase Value\n",
      "[162, 'Abyssal Shard', 2.67, 13, 34.71]\n",
      "\n",
      "\n",
      "Item ID Item Name Price Purchase Count Total Purchase Value\n",
      "[162, 'Abyssal Shard', 2.67, 13, 34.71]\n",
      "\n",
      "\n",
      "Item ID Item Name Price Purchase Count Total Purchase Value\n",
      "[162, 'Abyssal Shard', 2.67, 13, 34.71]\n",
      "\n",
      "\n",
      "Item ID Item Name Price Purchase Count Total Purchase Value\n",
      "[162, 'Abyssal Shard', 2.67, 13, 34.71]\n",
      "\n",
      "\n"
     ]
    }
   ],
   "source": [
    "listy = [item1_2, item2_2, item3_2, item4_2, item5_2]\n",
    "\n",
    "for i in listy:\n",
    "    print(\"Item ID Item Name Price Purchase Count Total Purchase Value\")\n",
    "    print(i)\n",
    "    print(\"\\n\")"
   ]
  },
  {
   "cell_type": "code",
   "execution_count": 92,
   "metadata": {},
   "outputs": [
    {
     "data": {
      "text/html": [
       "<div>\n",
       "<style scoped>\n",
       "    .dataframe tbody tr th:only-of-type {\n",
       "        vertical-align: middle;\n",
       "    }\n",
       "\n",
       "    .dataframe tbody tr th {\n",
       "        vertical-align: top;\n",
       "    }\n",
       "\n",
       "    .dataframe thead th {\n",
       "        text-align: right;\n",
       "    }\n",
       "</style>\n",
       "<table border=\"1\" class=\"dataframe\">\n",
       "  <thead>\n",
       "    <tr style=\"text-align: right;\">\n",
       "      <th></th>\n",
       "      <th>Purchase ID</th>\n",
       "      <th>SN</th>\n",
       "      <th>Age</th>\n",
       "      <th>Gender</th>\n",
       "      <th>Item ID</th>\n",
       "      <th>Item Name</th>\n",
       "      <th>Price</th>\n",
       "    </tr>\n",
       "  </thead>\n",
       "  <tbody>\n",
       "    <tr>\n",
       "      <th>0</th>\n",
       "      <td>0</td>\n",
       "      <td>Lisim78</td>\n",
       "      <td>20</td>\n",
       "      <td>Male</td>\n",
       "      <td>108</td>\n",
       "      <td>Extraction, Quickblade Of Trembling Hands</td>\n",
       "      <td>3.53</td>\n",
       "    </tr>\n",
       "    <tr>\n",
       "      <th>1</th>\n",
       "      <td>1</td>\n",
       "      <td>Lisovynya38</td>\n",
       "      <td>40</td>\n",
       "      <td>Male</td>\n",
       "      <td>143</td>\n",
       "      <td>Frenzied Scimitar</td>\n",
       "      <td>1.56</td>\n",
       "    </tr>\n",
       "    <tr>\n",
       "      <th>2</th>\n",
       "      <td>2</td>\n",
       "      <td>Ithergue48</td>\n",
       "      <td>24</td>\n",
       "      <td>Male</td>\n",
       "      <td>92</td>\n",
       "      <td>Final Critic</td>\n",
       "      <td>4.88</td>\n",
       "    </tr>\n",
       "    <tr>\n",
       "      <th>3</th>\n",
       "      <td>3</td>\n",
       "      <td>Chamassasya86</td>\n",
       "      <td>24</td>\n",
       "      <td>Male</td>\n",
       "      <td>100</td>\n",
       "      <td>Blindscythe</td>\n",
       "      <td>3.27</td>\n",
       "    </tr>\n",
       "    <tr>\n",
       "      <th>4</th>\n",
       "      <td>4</td>\n",
       "      <td>Iskosia90</td>\n",
       "      <td>23</td>\n",
       "      <td>Male</td>\n",
       "      <td>131</td>\n",
       "      <td>Fury</td>\n",
       "      <td>1.44</td>\n",
       "    </tr>\n",
       "  </tbody>\n",
       "</table>\n",
       "</div>"
      ],
      "text/plain": [
       "   Purchase ID             SN  Age Gender  Item ID  \\\n",
       "0            0        Lisim78   20   Male      108   \n",
       "1            1    Lisovynya38   40   Male      143   \n",
       "2            2     Ithergue48   24   Male       92   \n",
       "3            3  Chamassasya86   24   Male      100   \n",
       "4            4      Iskosia90   23   Male      131   \n",
       "\n",
       "                                   Item Name  Price  \n",
       "0  Extraction, Quickblade Of Trembling Hands   3.53  \n",
       "1                          Frenzied Scimitar   1.56  \n",
       "2                               Final Critic   4.88  \n",
       "3                                Blindscythe   3.27  \n",
       "4                                       Fury   1.44  "
      ]
     },
     "execution_count": 92,
     "metadata": {},
     "output_type": "execute_result"
    }
   ],
   "source": [
    "dataframe.head()"
   ]
  },
  {
   "cell_type": "code",
   "execution_count": 96,
   "metadata": {},
   "outputs": [],
   "source": [
    "dictionary2 = {}\n",
    "    \n",
    "uniqueitems = dataframe['Item Name']. unique().tolist()       \n",
    "itemname = dataframe['Item Name'].tolist()\n",
    "price = dataframe['Price'].tolist()\n",
    "\n",
    "final_answer = []\n",
    "\n",
    "for x in uniqueitems:\n",
    "    final_answer.append(itemname.count(x)*price[itemname.index(x)])\n",
    "    "
   ]
  },
  {
   "cell_type": "code",
   "execution_count": 97,
   "metadata": {},
   "outputs": [
    {
     "name": "stdout",
     "output_type": "stream",
     "text": [
      "[31.77, 9.36, 63.44, 16.35, 7.199999999999999, 7.22, 8.72, 13.35, 5.5, 21.48, 14.22, 16.72, 8.5, 19.44, 14.450000000000001, 15.120000000000001, 8.8, 44.1, 13.919999999999998, 18.4, 2.96, 19.05, 10.2, 28.71, 50.760000000000005, 11.270000000000001, 18.54, 12.96, 25.28, 14.7, 26.880000000000003, 20.45, 11.899999999999999, 26.400000000000002, 14.349999999999998, 12.6, 10.25, 12.56, 9.31, 30.16, 10.92, 8.299999999999999, 20.64, 15.88, 23.700000000000003, 10.08, 13.080000000000002, 14.8, 28.32, 5.68, 26.099999999999998, 11.370000000000001, 16.95, 6.96, 12.12, 2.0, 5.84, 17.76, 7.4, 3.3, 9.9, 17.28, 5.16, 18.75, 16.35, 18.4, 13.88, 6.12, 2.32, 9.24, 6.8, 33.84, 19.7, 11.41, 4.5, 14.28, 7.16, 15.0, 6.84, 12.25, 24.700000000000003, 14.25, 14.25, 5.64, 12.530000000000001, 30.800000000000004, 22.15, 13.04, 5.61, 19.36, 16.56, 12.54, 18.48, 41.22, 5.12, 14.879999999999999, 15.5, 4.9, 11.790000000000001, 13.440000000000001, 6.65, 12.09, 19.56, 14.940000000000001, 21.200000000000003, 3.2700000000000005, 6.63, 19.2, 9.12, 16.32, 11.64, 34.8, 4.199999999999999, 4.66, 17.6, 5.699999999999999, 16.0, 18.25, 9.98, 3.96, 16.28, 14.96, 19.099999999999998, 8.75, 21.560000000000002, 16.95, 7.86, 17.6, 7.5, 17.25, 8.72, 14.2, 1.75, 8.16, 13.32, 2.12, 13.96, 12.09, 4.12, 9.3, 9.209999999999999, 9.86, 14.44, 5.05, 24.55, 8.85, 14.79, 17.25, 5.37, 19.36, 10.23, 9.48, 4.17, 2.17, 13.84, 15.4, 8.879999999999999, 6.4, 12.149999999999999, 5.22, 7.08, 3.1, 14.46, 6.8100000000000005, 11.82, 2.24, 8.55, 11.61, 4.96, 10.4, 2.0, 4.08, 6.8100000000000005, 7.84, 3.58, 6.209999999999999, 2.94, 4.16, 1.93]\n"
     ]
    }
   ],
   "source": [
    "print(final_answer)"
   ]
  },
  {
   "cell_type": "code",
   "execution_count": 98,
   "metadata": {},
   "outputs": [],
   "source": [
    "for x,y in zip(uniqueitems, final_answer):\n",
    "    dictionary2[x]=y"
   ]
  },
  {
   "cell_type": "code",
   "execution_count": 99,
   "metadata": {},
   "outputs": [
    {
     "name": "stdout",
     "output_type": "stream",
     "text": [
      "{'Extraction, Quickblade Of Trembling Hands': 31.77, 'Frenzied Scimitar': 9.36, 'Final Critic': 63.44, 'Blindscythe': 16.35, 'Fury': 7.199999999999999, 'Dreamkiss': 7.22, 'Interrogator, Blood Blade of the Queen': 8.72, 'Abyssal Shard': 13.35, 'Souleater': 5.5, 'Ghastly Adamantite Protector': 21.48, 'Singed Onyx Warscythe': 14.22, 'Renewed Skeletal Katana': 16.72, \"Bloodlord's Fetish\": 8.5, 'Bone Crushing Silver Skewer': 19.44, 'Deadline, Voice Of Subtlety': 14.450000000000001, 'Second Chance': 15.120000000000001, 'Devine': 8.8, 'Nirvana': 44.1, 'Blazefury, Protector of Delusions': 13.919999999999998, 'Despair, Favor of Due Diligence': 18.4, 'Sun Strike, Jaws of Twisted Visions': 2.96, 'Warped Fetish': 19.05, 'Severance': 10.2, 'Persuasion': 28.71, 'Oathbreaker, Last Hope of the Breaking Storm': 50.760000000000005, 'Demise': 11.270000000000001, 'Blood-Forged Skeletal Spine': 18.54, 'Stormbringer, Dark Blade of Ending Misery': 12.96, 'Shadow Strike, Glory of Ending Hope': 25.28, 'Striker': 14.7, 'Wolf, Promise of the Moonwalker': 26.880000000000003, \"Faith's Scimitar\": 20.45, 'Bonecarvin Battle Axe': 11.899999999999999, 'Azurewrath': 26.400000000000002, 'Vengeance Cleaver': 14.349999999999998, 'Haunted Bronzed Bludgeon': 12.6, 'Ritual Mace': 10.25, 'Blade of the Grave': 12.56, 'Thorn, Satchel of Dark Souls': 9.31, \"Winter's Bite\": 30.16, 'Thorn, Conqueror of the Corrupted': 10.92, \"Reaper's Toll\": 8.299999999999999, 'Avenger': 20.64, 'Shadowsteel': 15.88, 'Peacekeeper, Wit of Dark Magic': 23.700000000000003, 'Suspension': 10.08, 'Amnesia': 13.080000000000002, 'Soul Infused Crystal': 14.8, 'Wolf': 28.32, 'Relentless Iron Skewer': 5.68, 'Hero Cane': 26.099999999999998, 'Arcane Gem': 11.370000000000001, 'Dreamsong': 16.95, 'Darkheart': 6.96, 'Hailstorm Shadowsteel Scythe': 12.12, 'Whistling Mithril Warblade': 2.0, 'Foul Titanium Battle Axe': 5.84, 'Retribution Axe': 17.76, 'Rusty Skull': 7.4, 'Riddle, Tribute of Ended Dreams': 3.3, 'Chaos, Ender of the End': 9.9, 'Storm-Weaver, Slayer of Inception': 17.28, 'Venom Claymore': 5.16, 'Emberling, Defender of Delusions': 18.75, 'Netherbane': 16.35, 'Dawn': 18.4, 'Primitive Blade': 13.88, 'Dawne': 6.12, 'Curved Axe': 2.32, 'Fate, Vengeance of Eternal Justice': 9.24, 'Lazarus, Terror of the Earth': 6.8, 'Lightning, Etcher of the King': 33.84, 'Betrayal, Whisper of Grieving Widows': 19.7, 'Exiled Doomblade': 11.41, 'Undead Crusader': 4.5, 'Downfall, Scalpel Of The Emperor': 14.28, 'Sleepwalker': 7.16, 'Eternal Cleaver': 15.0, 'Expiration, Warscythe Of Lost Worlds': 6.84, 'Malificent Bag': 12.25, 'Mercy, Katana of Dismay': 24.700000000000003, 'Orbit': 14.25, 'Deathraze': 14.25, 'Serenity': 5.64, 'Heartstriker, Legacy of the Light': 12.530000000000001, 'Glimmer, Ender of the Moon': 30.800000000000004, 'Deluge, Edge of the West': 22.15, 'Crucifer': 13.04, 'Piece Maker': 5.61, 'Brutality Ivory Warmace': 19.36, \"Freak's Bite, Favor of Holy Might\": 16.56, 'Yearning Crusher': 12.54, 'Agatha': 18.48, 'Fiery Glass Crusader': 41.22, 'Splinter': 5.12, 'Verdict': 14.879999999999999, 'Warped Iron Scimitar': 15.5, 'Darkheart, Butcher of the Champion': 4.9, 'Purgatory, Gem of Regret': 11.790000000000001, 'Woeful Adamantite Claymore': 13.440000000000001, 'Hopeless Ebon Dualblade': 6.65, \"Warmonger, Gift of Suffering's End\": 12.09, \"Misery's End\": 19.56, 'Phantomlight': 14.940000000000001, 'Conqueror Adamantite Mace': 21.200000000000003, \"Dragon's Greatsword\": 3.2700000000000005, 'Stormcaller': 6.63, 'Spada, Etcher of Hatred': 19.2, \"Twilight's Carver\": 9.12, 'Putrid Fan': 16.32, 'Blood Infused Guardian': 11.64, 'Singed Scalpel': 34.8, 'Warped Diamond Crusader': 4.199999999999999, 'Endbringer': 4.66, 'Feral Katana': 17.6, 'Orenmir': 5.699999999999999, 'Piety, Guardian of Riddles': 16.0, 'Brimstone': 18.25, 'Stormfury Mace': 9.98, 'Frenzy, Defender of the Harvest': 3.96, \"Solitude's Reaver\": 16.28, 'Mercenary Sabre': 14.96, 'Yearning Mageblade': 19.099999999999998, 'Tranquility, Razor of Black Magic': 8.75, 'Oathbreaker, Spellblade of Trials': 21.560000000000002, 'Aetherius, Boon of the Blessed': 16.95, 'Righteous Might': 7.86, 'Victor Iron Spikes': 17.6, 'Swan Song, Gouger Of Terror': 7.5, 'Thunderfury Scimitar': 17.25, 'Splitter, Foe Of Subtlety': 8.72, 'Restored Bauble': 14.2, 'The Decapitator': 1.75, 'Pursuit, Cudgel of Necromancy': 8.16, 'Lifebender': 13.32, 'Flux, Destroyer of Due Diligence': 2.12, 'Mourning Blade': 13.96, 'Toothpick': 12.09, \"Hope's End\": 4.12, 'Torchlight, Bond of Storms': 9.3, 'Thirsty Iron Reaver': 9.209999999999999, 'Stormfury Longsword': 9.86, 'Malice, Legacy of the Queen': 14.44, 'War-Forged Gold Deflector': 5.05, 'Blazeguard, Reach of Eternity': 24.55, 'Soul-Forged Steel Shortsword': 8.85, 'Hellreaver, Heirloom of Inception': 14.79, 'Heartless Bone Dualblade': 17.25, 'Scalpel': 5.37, 'Hatred': 19.36, 'Crying Steel Sickle': 10.23, 'The Void, Vengeance of Dark Magic': 9.48, 'Celeste': 4.17, 'Ghost Reaver, Longsword of Magic': 2.17, 'Celeste, Incarnation of the Corrupted': 13.84, 'Glinting Glass Edge': 15.4, 'The Oculus, Token of Lost Worlds': 8.879999999999999, 'Massacre': 6.4, 'Alpha, Oath of Zeal': 12.149999999999999, 'Possessed Core': 5.22, 'Foul Edge': 7.08, 'Trickster': 3.1, 'Fusion Pummel': 14.46, 'Stormfury Lantern': 6.8100000000000005, 'Apocalyptic Battlescythe': 11.82, 'Unholy Wand': 2.24, 'Unending Tyranny': 8.55, 'Ragnarok': 11.61, 'Rage, Legacy of the Lone Victor': 4.96, 'Worldbreaker': 10.4, 'Exiled Mithril Longsword': 2.0, 'Spectral Diamond Doomblade': 4.08, 'Vindictive Glass Edge': 6.8100000000000005, 'Heartseeker, Reaver of Souls': 7.84, 'Alpha, Reach of Ending Hope': 3.58, 'Alpha': 6.209999999999999, 'Betrayer': 2.94, 'Winterthorn, Defender of Shifting Worlds': 4.16, \"Gladiator's Glaive\": 1.93}\n"
     ]
    }
   ],
   "source": [
    "print(dictionary2)"
   ]
  },
  {
   "cell_type": "code",
   "execution_count": 103,
   "metadata": {},
   "outputs": [],
   "source": [
    "money = list(dictionary2.values())\n",
    "\n",
    "money.sort()"
   ]
  },
  {
   "cell_type": "code",
   "execution_count": 104,
   "metadata": {},
   "outputs": [
    {
     "name": "stdout",
     "output_type": "stream",
     "text": [
      "[1.75, 1.93, 2.0, 2.0, 2.12, 2.17, 2.24, 2.32, 2.94, 2.96, 3.1, 3.2700000000000005, 3.3, 3.58, 3.96, 4.08, 4.12, 4.16, 4.17, 4.199999999999999, 4.5, 4.66, 4.9, 4.96, 5.05, 5.12, 5.16, 5.22, 5.37, 5.5, 5.61, 5.64, 5.68, 5.699999999999999, 5.84, 6.12, 6.209999999999999, 6.4, 6.63, 6.65, 6.8, 6.8100000000000005, 6.8100000000000005, 6.84, 6.96, 7.08, 7.16, 7.199999999999999, 7.22, 7.4, 7.5, 7.84, 7.86, 8.16, 8.299999999999999, 8.5, 8.55, 8.72, 8.72, 8.75, 8.8, 8.85, 8.879999999999999, 9.12, 9.209999999999999, 9.24, 9.3, 9.31, 9.36, 9.48, 9.86, 9.9, 9.98, 10.08, 10.2, 10.23, 10.25, 10.4, 10.92, 11.270000000000001, 11.370000000000001, 11.41, 11.61, 11.64, 11.790000000000001, 11.82, 11.899999999999999, 12.09, 12.09, 12.12, 12.149999999999999, 12.25, 12.530000000000001, 12.54, 12.56, 12.6, 12.96, 13.04, 13.080000000000002, 13.32, 13.35, 13.440000000000001, 13.84, 13.88, 13.919999999999998, 13.96, 14.2, 14.22, 14.25, 14.25, 14.28, 14.349999999999998, 14.44, 14.450000000000001, 14.46, 14.7, 14.79, 14.8, 14.879999999999999, 14.940000000000001, 14.96, 15.0, 15.120000000000001, 15.4, 15.5, 15.88, 16.0, 16.28, 16.32, 16.35, 16.35, 16.56, 16.72, 16.95, 16.95, 17.25, 17.25, 17.28, 17.6, 17.6, 17.76, 18.25, 18.4, 18.4, 18.48, 18.54, 18.75, 19.05, 19.099999999999998, 19.2, 19.36, 19.36, 19.44, 19.56, 19.7, 20.45, 20.64, 21.200000000000003, 21.48, 21.560000000000002, 22.15, 23.700000000000003, 24.55, 24.700000000000003, 25.28, 26.099999999999998, 26.400000000000002, 26.880000000000003, 28.32, 28.71, 30.16, 30.800000000000004, 31.77, 33.84, 34.8, 41.22, 44.1, 50.760000000000005, 63.44]\n"
     ]
    }
   ],
   "source": [
    "print(money)"
   ]
  },
  {
   "cell_type": "code",
   "execution_count": 105,
   "metadata": {},
   "outputs": [
    {
     "data": {
      "text/plain": [
       "63.44"
      ]
     },
     "execution_count": 105,
     "metadata": {},
     "output_type": "execute_result"
    }
   ],
   "source": [
    "# money[-1]"
   ]
  },
  {
   "cell_type": "code",
   "execution_count": 106,
   "metadata": {},
   "outputs": [],
   "source": [
    "names = []\n",
    "\n",
    "for x,y in zip(dictionary2.values(), dictionary2.keys()):\n",
    "    if x==money[-1]:\n",
    "        names.append(y)\n",
    "    elif x ==money[-2]:\n",
    "        names.append(y)\n",
    "    elif x ==money[-3]:\n",
    "        names.append(y)\n",
    "    elif x ==money[-4]:\n",
    "        names.append(y)\n",
    "    elif x ==money[-5]:\n",
    "        names.append(y)\n",
    "            \n",
    "    \n",
    "        "
   ]
  },
  {
   "cell_type": "code",
   "execution_count": 107,
   "metadata": {},
   "outputs": [
    {
     "name": "stdout",
     "output_type": "stream",
     "text": [
      "['Final Critic', 'Nirvana', 'Oathbreaker, Last Hope of the Breaking Storm', 'Fiery Glass Crusader', 'Singed Scalpel', 'Singed Scalpel']\n"
     ]
    }
   ],
   "source": [
    "print (names)"
   ]
  },
  {
   "cell_type": "code",
   "execution_count": 108,
   "metadata": {},
   "outputs": [
    {
     "name": "stdout",
     "output_type": "stream",
     "text": [
      "[2, 18, 25, 132, 175, 175]\n"
     ]
    }
   ],
   "source": [
    "items = []\n",
    "\n",
    "for i in names:\n",
    "    items.append(itemname.index(i))\n",
    "        \n",
    "print(items)\n",
    "    \n",
    "    "
   ]
  },
  {
   "cell_type": "code",
   "execution_count": 111,
   "metadata": {},
   "outputs": [
    {
     "name": "stdout",
     "output_type": "stream",
     "text": [
      "[Item ID    92.00\n",
      "Price       4.88\n",
      "Name: 2, dtype: float64, Item ID    82.0\n",
      "Price       4.9\n",
      "Name: 18, dtype: float64, Item ID    178.00\n",
      "Price        4.23\n",
      "Name: 25, dtype: float64, Item ID    145.00\n",
      "Price        4.58\n",
      "Name: 132, dtype: float64, Item ID    103.00\n",
      "Price        4.35\n",
      "Name: 175, dtype: float64, Item ID    103.00\n",
      "Price        4.35\n",
      "Name: 175, dtype: float64]\n"
     ]
    }
   ],
   "source": [
    "columns = []\n",
    "for i in items:\n",
    "    columns.append(dataframe[['Item ID', 'Price']].loc[i])\n",
    "        \n",
    "print(columns)\n",
    "    \n",
    "    "
   ]
  },
  {
   "cell_type": "code",
   "execution_count": 112,
   "metadata": {},
   "outputs": [
    {
     "name": "stdout",
     "output_type": "stream",
     "text": [
      "Item ID    92.00\n",
      "Price       4.88\n",
      "Name: 2, dtype: float64\n",
      "Item Name   Total Purchase Value\n",
      "   Final Critic   1.75\n",
      "\n",
      "\n",
      "Item ID    82.0\n",
      "Price       4.9\n",
      "Name: 18, dtype: float64\n",
      "Item Name   Total Purchase Value\n",
      "   Nirvana   63.44\n",
      "\n",
      "\n",
      "Item ID    178.00\n",
      "Price        4.23\n",
      "Name: 25, dtype: float64\n",
      "Item Name   Total Purchase Value\n",
      "   Oathbreaker, Last Hope of the Breaking Storm   50.760000000000005\n",
      "\n",
      "\n",
      "Item ID    145.00\n",
      "Price        4.58\n",
      "Name: 132, dtype: float64\n",
      "Item Name   Total Purchase Value\n",
      "   Fiery Glass Crusader   44.1\n",
      "\n",
      "\n",
      "Item ID    103.00\n",
      "Price        4.35\n",
      "Name: 175, dtype: float64\n",
      "Item Name   Total Purchase Value\n",
      "   Singed Scalpel   41.22\n",
      "\n",
      "\n",
      "Item ID    103.00\n",
      "Price        4.35\n",
      "Name: 175, dtype: float64\n",
      "Item Name   Total Purchase Value\n",
      "   Singed Scalpel   34.8\n",
      "\n",
      "\n"
     ]
    }
   ],
   "source": [
    "for i in range(len(columns)):\n",
    "    print(str(columns[i]))\n",
    "    print(\"Item Name   Total Purchase Value\")\n",
    "    print(\"   \"+str(names[i])+\"   \"+str(money[-1*i]))\n",
    "    print(\"\\n\")"
   ]
  },
  {
   "cell_type": "code",
   "execution_count": 114,
   "metadata": {},
   "outputs": [],
   "source": [
    "# 1. 780 people were playing the game\n",
    "\n",
    "# 2. majority of people who play this game is between 20 - 30\n",
    "\n",
    "# 3. only 13 people above 40 play this game\n",
    "\n",
    "# 4. More males play this gaem than women"
   ]
  },
  {
   "cell_type": "code",
   "execution_count": 120,
   "metadata": {},
   "outputs": [],
   "source": [
    "age_list = dataframe['Age'].tolist()\n",
    "\n",
    "under20 = []\n",
    "twentyto30 = []\n",
    "thirtytoforty = []\n",
    "above40= []\n",
    "\n",
    "for i in age_list:\n",
    "    if i<20:\n",
    "        under20.append(i)\n",
    "    elif   i>=20 and i<30:\n",
    "        twentyto30.append(i)\n",
    "    elif i>=30 and i<40: \n",
    "        thirtytoforty.append(i)\n",
    "    elif i>=40:\n",
    "        above40.append(i)\n",
    "            \n",
    "            \n",
    "    \n",
    "            "
   ]
  },
  {
   "cell_type": "code",
   "execution_count": 121,
   "metadata": {},
   "outputs": [
    {
     "name": "stdout",
     "output_type": "stream",
     "text": [
      "187\n",
      "466\n",
      "114\n",
      "13\n"
     ]
    }
   ],
   "source": [
    "print(len(under20))\n",
    "print(len(twentyto30))\n",
    "print(len(thirtytoforty))\n",
    "print(len(above40))"
   ]
  },
  {
   "cell_type": "code",
   "execution_count": 125,
   "metadata": {},
   "outputs": [
    {
     "name": "stdout",
     "output_type": "stream",
     "text": [
      "652\n"
     ]
    }
   ],
   "source": [
    "gender = dataframe['Gender'].tolist()\n",
    "male = [i for i in gender if i== \"Male\"]\n",
    "\n",
    "print(len(male))"
   ]
  },
  {
   "cell_type": "code",
   "execution_count": null,
   "metadata": {},
   "outputs": [],
   "source": []
  }
 ],
 "metadata": {
  "kernelspec": {
   "display_name": "Python 3",
   "language": "python",
   "name": "python3"
  },
  "language_info": {
   "codemirror_mode": {
    "name": "ipython",
    "version": 3
   },
   "file_extension": ".py",
   "mimetype": "text/x-python",
   "name": "python",
   "nbconvert_exporter": "python",
   "pygments_lexer": "ipython3",
   "version": "3.8.3"
  }
 },
 "nbformat": 4,
 "nbformat_minor": 4
}
